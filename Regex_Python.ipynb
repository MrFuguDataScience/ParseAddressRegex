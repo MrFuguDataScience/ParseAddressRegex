{
 "cells": [
  {
   "cell_type": "markdown",
   "metadata": {},
   "source": [
    "# Regular Expressions Tutorial: Parse Addresses with Python\n",
    "\n",
    "\n",
    "with `Mr. Fugu Data Science`\n",
    "\n",
    "# (◕‿◕✿)\n",
    "\n",
    "\n",
    "[Github](https://github.com/MrFuguDataScience) | [Youtube](https://www.youtube.com/channel/UCbni-TDI-Ub8VlGaP8HLTNw?view_as=subscriber)"
   ]
  },
  {
   "cell_type": "markdown",
   "metadata": {},
   "source": [
    "[re module documentation](https://docs.python.org/3/library/re.html)\n",
    "\n",
    "|     \t|                                             \t|   \t| Special Characters \t|                                                                 \t|\n",
    "|-----\t|---------------------------------------------\t|---\t|--------------------\t|-----------------------------------------------------------------\t|\n",
    "| \\A  \t| matches start of string                     \t|   \t| .                  \t| any character except (\\n)                                       \t|\n",
    "| \\b  \t| boundary of  word                           \t|   \t| ^                  \t| start of string, except for multiline it matches directly after \t|\n",
    "| \\B  \t| Not Word Boundary                           \t|   \t| $                  \t| end of string or just before (\\n)                               \t|\n",
    "| \\d  \t| digits: (0-9)                               \t|   \t| *                  \t| 0+, repetitions of pattern before the (*)                       \t|\n",
    "| \\D  \t| any character but NOT digit                 \t|   \t| +                  \t| 1+ repetitions of pattern before the (+)                        \t|\n",
    "| \\s  \t| whitespace: (\\t,\\n, space)                  \t|   \t| ?                  \t| 0 or 1 repetitions preceding RE.                                \t|\n",
    "| \\S  \t| matches any character but NOT (\\t,\\n space) \t|   \t| *?, +?, ??         \t| Creates non greedy forms                                        \t|\n",
    "| \\w  \t| matches characters,  digits, underscore     \t|   \t| {m}                \t| exact number of matches                                         \t|\n",
    "| \\W  \t| anything except  character                  \t|   \t| {m.n}              \t| range of matches                                                \t|\n",
    "| \\Z  \t| Only matches end of string                  \t|   \t| {m,n}?             \t| match as FEW as possible, in range                              \t|\n",
    "| ( ) \t| grouping                                    \t|   \t| [ ]                \t| Character set, finds anything inside                            \t|\n",
    "\n",
    "\n",
    "`---------------------------------------`\n",
    "\n",
    "`Other Tips:`\n",
    "\n",
    "| Look ahead &  Look Behind \t|                                                                                                                           \t|\n",
    "|---------------------------\t|---------------------------------------------------------------------------------------------------------------------------\t|\n",
    "| ?:                        \t| match but don't capture it                                                                                                \t|\n",
    "| ?=                        \t| match suffix but exclude from capture \"Look ahead\" ex.) q(?=u), find \"q\" that IS followed by \"u\", BUT, doesn't return \"u\" \t|\n",
    "| ?!                        \t| match if suffix is absent (neg.) look ahead ex.) p(?!u), means find \"p\" NOT  followed by \"u\"                              \t|\n",
    "| ?<=                       \t| positive look ahead                                                                                                       \t|\n",
    "| ?<!                       \t| negative look behind                                                                                                      \t|\n",
    "| (?=(regex))               \t| use this to store the data from look ahead                                                                                \t|"
   ]
  },
  {
   "cell_type": "code",
   "execution_count": 2,
   "metadata": {},
   "outputs": [],
   "source": [
    "import re\n",
    "import pandas as pd\n",
    "# from bs4 import BeautifulStoneSoup as bsopa\n",
    "# from selenium import webdriver\n",
    "# import requests\n",
    "import faker"
   ]
  },
  {
   "cell_type": "code",
   "execution_count": 3,
   "metadata": {},
   "outputs": [],
   "source": [
    "fake_=faker.Faker()\n",
    "fake_.seed(413)\n",
    "fake_personal_profile=[]\n",
    "for i in range(500):\n",
    "    fake_personal_profile.append(fake_.profile())\n",
    "    \n",
    "\n",
    "\n",
    "# use if you were only if you were taking 1 item from dictionary-list\n",
    "# pd.DataFrame(fake_personal_profile,orient='index').transpose() "
   ]
  },
  {
   "cell_type": "markdown",
   "metadata": {},
   "source": [
    "# Creating Personal Profiles with Fake Data:"
   ]
  },
  {
   "cell_type": "code",
   "execution_count": 4,
   "metadata": {
    "scrolled": false
   },
   "outputs": [
    {
     "data": {
      "text/plain": [
       "['36411', 'Schwartz', 'Shoals', 'Suite', '648\\nEast', 'Denise,', 'NV', '66145']"
      ]
     },
     "execution_count": 4,
     "metadata": {},
     "output_type": "execute_result"
    }
   ],
   "source": [
    "# Personal Data for Fake People:\n",
    "fake_persons_data=pd.DataFrame(fake_personal_profile)\n",
    "\n",
    "blood_type=fake_persons_data['blood_group']\n",
    "\n",
    "fake_persons_data['residence'][4].split(' ')\n",
    "# fake_persons_data"
   ]
  },
  {
   "cell_type": "code",
   "execution_count": 5,
   "metadata": {},
   "outputs": [
    {
     "data": {
      "text/plain": [
       "'74187 Laurie Parkways Apt. 344\\nLake Maria, MN 77577'"
      ]
     },
     "execution_count": 5,
     "metadata": {},
     "output_type": "execute_result"
    }
   ],
   "source": [
    "fake_persons_data['residence'][0]"
   ]
  },
  {
   "cell_type": "code",
   "execution_count": 6,
   "metadata": {},
   "outputs": [
    {
     "data": {
      "text/plain": [
       "['74187 Laurie Parkways Apt. 344\\nLake Maria, MN 77577',\n",
       " '4035 Perez Pass Apt. 421\\nCalderonton, KS 89435',\n",
       " '0086 Cohen Trafficway\\nNorth Joseph, WV 50669',\n",
       " '4637 Mary Inlet Apt. 200\\nNew Robert, ME 48035',\n",
       " '36411 Schwartz Shoals Suite 648\\nEast Denise, NV 66145',\n",
       " '811 Johnson Garden Suite 506\\nYolandafort, RI 63534',\n",
       " '976 Amanda Common Suite 647\\nChristianchester, VT 25717',\n",
       " 'USNV Maddox\\nFPO AA 77402',\n",
       " '0259 Douglas Gardens\\nNew Aliciaberg, NM 73609',\n",
       " '372 Wilson Common\\nLake Latasha, MA 90202']"
      ]
     },
     "execution_count": 6,
     "metadata": {},
     "output_type": "execute_result"
    }
   ],
   "source": [
    "# Change BOX to PO BOX:\n",
    "\n",
    "update_pobox=[]\n",
    "for i in fake_persons_data['residence']: \n",
    "    op=re.sub(r'Box', 'PO BOX',i)\n",
    "    update_pobox.append(op)\n",
    "    \n",
    "update_pobox[:10]"
   ]
  },
  {
   "cell_type": "markdown",
   "metadata": {},
   "source": [
    "# Handling PO BOX:\n",
    "+ There are two types of PO BOX here:\n",
    "\n",
    "1.) `Foreign US Military PO BOX`: which have string starting with (`PSC`) and contain:  (`APO,FPO`)\n",
    "    this corresponds to the `USPS` formatting of Foreign Military Postal Codes. Except the \n",
    "    position in the string here is inaccurate, but good enough for this exercise.\n",
    "   \n",
    "2.) The other PO BOX represent somewhat normal addresses. "
   ]
  },
  {
   "cell_type": "code",
   "execution_count": 7,
   "metadata": {},
   "outputs": [
    {
     "data": {
      "text/plain": [
       "[[('PSC 5627, PO BOX', '\\nAPO AP 26601')],\n",
       " [('Unit 7862 PO BOX', '\\nDPO AA 94969')]]"
      ]
     },
     "execution_count": 7,
     "metadata": {},
     "output_type": "execute_result"
    }
   ],
   "source": [
    "# Take Everything After PO BOX, and stop at (\\n)\n",
    "po_box_with_num=re.compile(r'\\b(:? PO BOX.*)+\\b')\n",
    "\n",
    "# Take Everything Before (PO BOX)\n",
    "unit_num_pobox=re.compile(r'.+?(?=PO BOX)')\n",
    "\n",
    "# Check if String Contains a Specific Word: print sentence\n",
    "match_word=re.compile(r'\\b(.*?PO BOX).+(\\s\\w.+)\\b')\n",
    "\n",
    "\n",
    "h=[]\n",
    "# define_words='PO BOX'\n",
    "for i in update_pobox: \n",
    "    if re.findall(match_word,i):\n",
    "        h.append(re.findall(match_word,i))\n",
    "#     h.append(re.search(define_words,i))\n",
    "h[:2]\n",
    "# update_pobox"
   ]
  },
  {
   "cell_type": "markdown",
   "metadata": {},
   "source": [
    "# Find Strings with Apartment or Suite:"
   ]
  },
  {
   "cell_type": "code",
   "execution_count": 8,
   "metadata": {},
   "outputs": [
    {
     "data": {
      "text/plain": [
       "['74187 Laurie Parkways Apt. 344\\nLake Maria, MN 77577',\n",
       " '4035 Perez Pass Apt. 421\\nCalderonton, KS 89435',\n",
       " '4637 Mary Inlet Apt. 200\\nNew Robert, ME 48035',\n",
       " '36411 Schwartz Shoals Suite 648\\nEast Denise, NV 66145',\n",
       " '811 Johnson Garden Suite 506\\nYolandafort, RI 63534',\n",
       " '976 Amanda Common Suite 647\\nChristianchester, VT 25717',\n",
       " '667 Andrea Divide Suite 768\\nRubenbury, RI 76156',\n",
       " '81186 Frank Ports Suite 654\\nDebrafort, NE 47710',\n",
       " '6325 Morse Pine Apt. 801\\nRobertoburgh, MN 50010',\n",
       " '5266 Hart Burgs Suite 937\\nMoorebury, MO 58963']"
      ]
     },
     "execution_count": 8,
     "metadata": {},
     "output_type": "execute_result"
    }
   ],
   "source": [
    "strg_apt_ste=[]\n",
    "\n",
    "h=[]\n",
    "for i in update_pobox: \n",
    "    if re.findall(re.compile(r'\\b.+?(?=Apt|Suite)\\b'),i):\n",
    "        \n",
    "        # everything before apt/suite appended but everything before apt/suite\n",
    "        h.append(re.findall(re.compile(r'\\b.+?(?=Apt|Suite)'),i))\n",
    "\n",
    "        # append if string has apt/ste\n",
    "        strg_apt_ste.append(i)\n",
    "\n",
    "strg_apt_ste[:10]\n",
    "# h"
   ]
  },
  {
   "cell_type": "markdown",
   "metadata": {},
   "source": [
    "# Extracting everything that is NOT PO BOX:"
   ]
  },
  {
   "cell_type": "code",
   "execution_count": 9,
   "metadata": {},
   "outputs": [
    {
     "data": {
      "text/plain": [
       "['74187 Laurie Parkways Apt. 344\\nLake Maria, MN 77577',\n",
       " '4035 Perez Pass Apt. 421\\nCalderonton, KS 89435',\n",
       " '0086 Cohen Trafficway\\nNorth Joseph, WV 50669',\n",
       " '4637 Mary Inlet Apt. 200\\nNew Robert, ME 48035',\n",
       " '36411 Schwartz Shoals Suite 648\\nEast Denise, NV 66145',\n",
       " '811 Johnson Garden Suite 506\\nYolandafort, RI 63534',\n",
       " '976 Amanda Common Suite 647\\nChristianchester, VT 25717',\n",
       " 'USNV Maddox\\nFPO AA 77402',\n",
       " '0259 Douglas Gardens\\nNew Aliciaberg, NM 73609',\n",
       " '372 Wilson Common\\nLake Latasha, MA 90202']"
      ]
     },
     "execution_count": 9,
     "metadata": {},
     "output_type": "execute_result"
    }
   ],
   "source": [
    "no_pobox=[]\n",
    "\n",
    "match_word_pobox=re.compile(r'\\b(.*?PO BOX).+(\\s\\w.+)\\b')\n",
    "for i in update_pobox: \n",
    "    if re.findall(match_word_pobox,i):\n",
    "        pass\n",
    "    else:\n",
    "        no_pobox.append(i)\n",
    "\n",
    "no_pobox[:10]"
   ]
  },
  {
   "cell_type": "markdown",
   "metadata": {},
   "source": [
    "# If the Beggining of Address is NOT a digit [0-9] sequence:\n",
    "+ you have a military address, in this instance!\n",
    "\n",
    "Because, I already removed the PO BOX's"
   ]
  },
  {
   "cell_type": "code",
   "execution_count": 10,
   "metadata": {},
   "outputs": [
    {
     "data": {
      "text/plain": [
       "['74187 Laurie Parkways Apt. 344\\nLake Maria, MN 77577',\n",
       " '4035 Perez Pass Apt. 421\\nCalderonton, KS 89435',\n",
       " '0086 Cohen Trafficway\\nNorth Joseph, WV 50669',\n",
       " '4637 Mary Inlet Apt. 200\\nNew Robert, ME 48035',\n",
       " '36411 Schwartz Shoals Suite 648\\nEast Denise, NV 66145',\n",
       " '811 Johnson Garden Suite 506\\nYolandafort, RI 63534',\n",
       " '976 Amanda Common Suite 647\\nChristianchester, VT 25717',\n",
       " '0259 Douglas Gardens\\nNew Aliciaberg, NM 73609',\n",
       " '372 Wilson Common\\nLake Latasha, MA 90202',\n",
       " '667 Andrea Divide Suite 768\\nRubenbury, RI 76156']"
      ]
     },
     "execution_count": 10,
     "metadata": {},
     "output_type": "execute_result"
    }
   ],
   "source": [
    "store_address=[]\n",
    "military_addr=[]\n",
    "match_word_pobox=re.compile(r'^[\\d]{1,6}.+[\\s\\w.+].+')\n",
    "\n",
    "for i in no_pobox: \n",
    "    if re.findall(match_word_pobox,i):\n",
    "        store_address.extend(re.findall(match_word_pobox,i))\n",
    "    else:\n",
    "        military_addr.extend([i])\n",
    "\n",
    "military_addr\n",
    "store_address[:10]\n"
   ]
  },
  {
   "cell_type": "markdown",
   "metadata": {},
   "source": [
    "# Parse Addresses:"
   ]
  },
  {
   "cell_type": "code",
   "execution_count": 125,
   "metadata": {},
   "outputs": [],
   "source": [
    "y=[]\n",
    "for i in store_address:\n",
    "    y.append(re.split(r'\\n',i))\n",
    "#     print(i)\n",
    "y\n",
    "\n",
    "# Digit address\n",
    "primary_addr_num=re.compile(r'^[\\d]+')\n",
    "\n",
    "# Cardinal Direction: \"Predirectional\"\n",
    "post_directional=re.compile(r'[^\\d]+\\w')\n",
    "\n",
    "# Street Name\n",
    "# street_name=\n",
    "\n",
    "# Postdirection:\n",
    "# post_dir =\n",
    "\n",
    "# apt,ste,suite\n",
    "secondary_adrr= re.compile(r'\\b(?=((Apt|Suite|#)\\S\\s\\w+))')\n",
    "\n",
    "# City:\n",
    "\n",
    "# State:\n",
    "\n",
    "# Zipcode:\n",
    "\n",
    "q='74187 Laurie Parkways Apt. 344 Lake Maria, MN 77577'\n",
    "# re.findall(r'^[\\d]+',q)"
   ]
  },
  {
   "cell_type": "code",
   "execution_count": 24,
   "metadata": {},
   "outputs": [
    {
     "data": {
      "text/plain": [
       "['74187']"
      ]
     },
     "execution_count": 24,
     "metadata": {},
     "output_type": "execute_result"
    }
   ],
   "source": [
    "# Find Digit for Street Address:\n",
    "\n",
    "q='74187 Laurie Parkways Apt. 344 Lake Maria, MN 77577'\n",
    "re.findall(r'^[\\d]+',q)"
   ]
  },
  {
   "cell_type": "code",
   "execution_count": 126,
   "metadata": {},
   "outputs": [
    {
     "data": {
      "text/plain": [
       "'S.W. '"
      ]
     },
     "execution_count": 126,
     "metadata": {},
     "output_type": "execute_result"
    }
   ],
   "source": [
    "# Pre-Directional for Address:\n",
    "\n",
    "q='74187 S.W. Laurie Parkways Apt. 344\\nLake Maria, MN 77577'\n",
    "predir_=re.findall(r'^[\\d+]+\\s(S(\\s|\\.|o|outh|[ewn]\\s|e.|w.|n.)+|w(est|\\.|\\s)+|e(\\.|ast)+)',\n",
    "           q,flags=re.IGNORECASE)\n",
    "\n",
    "predir_[0][0]\n",
    "# re.findall(r'^[\\d+].*\\s[\\w]\\s',q)"
   ]
  },
  {
   "cell_type": "code",
   "execution_count": 71,
   "metadata": {},
   "outputs": [],
   "source": [
    "# Find Apartment:\n",
    "\n",
    "\n",
    "# re.findall(r'^[\\d+].*\\s[\\w]\\s',q)\n",
    "\n",
    "\n",
    "io=re.findall(r'^[\\d+]+\\s\\w\\S\\s\\w+',q)\n",
    "\n",
    "for i in io:\n",
    "    print(re.findall(r'[^\\d]+\\w',i))"
   ]
  },
  {
   "cell_type": "code",
   "execution_count": 1242,
   "metadata": {},
   "outputs": [
    {
     "data": {
      "text/plain": [
       "['Apt.']"
      ]
     },
     "execution_count": 1242,
     "metadata": {},
     "output_type": "execute_result"
    }
   ],
   "source": [
    "re.findall(re.compile(r'(?=Apt|Suite)\\w\\S+'),q)"
   ]
  },
  {
   "cell_type": "code",
   "execution_count": 73,
   "metadata": {},
   "outputs": [
    {
     "data": {
      "text/plain": [
       "'Apt. 344'"
      ]
     },
     "execution_count": 73,
     "metadata": {},
     "output_type": "execute_result"
    }
   ],
   "source": [
    "# Apartment or Suite with number:\n",
    "\n",
    "ui=re.findall(re.compile(r'\\b(?=((Apt|Suite)\\S\\s\\w+))'),q)\n",
    "ui[0][0]\n",
    "# ui"
   ]
  },
  {
   "cell_type": "code",
   "execution_count": 76,
   "metadata": {},
   "outputs": [
    {
     "data": {
      "text/plain": [
       "[' MN 77577']"
      ]
     },
     "execution_count": 76,
     "metadata": {},
     "output_type": "execute_result"
    }
   ],
   "source": [
    "# Look Look Behind (POS): State and Zipcode\n",
    "\n",
    "re.split('\\n',q)\n",
    "\n",
    "re.findall(r'(?<=\\,).+',q)\n",
    "# q"
   ]
  },
  {
   "cell_type": "code",
   "execution_count": 1559,
   "metadata": {},
   "outputs": [
    {
     "data": {
      "text/plain": [
       "[', MN 77577']"
      ]
     },
     "execution_count": 1559,
     "metadata": {},
     "output_type": "execute_result"
    }
   ],
   "source": [
    "re.findall(r'(?=\\,).+',q)"
   ]
  },
  {
   "cell_type": "code",
   "execution_count": 78,
   "metadata": {},
   "outputs": [
    {
     "data": {
      "text/plain": [
       "['Lake Maria']"
      ]
     },
     "execution_count": 78,
     "metadata": {},
     "output_type": "execute_result"
    }
   ],
   "source": [
    "# LookForward: But, there is a hidden issue to discuss on line below!\n",
    "\n",
    "re.findall(re.compile(r'.+?(?=\\,)'),q)\n",
    "# q"
   ]
  },
  {
   "cell_type": "code",
   "execution_count": 11,
   "metadata": {},
   "outputs": [
    {
     "data": {
      "text/plain": [
       "['Lake Maria',\n",
       " 'Calderonton',\n",
       " 'North Joseph',\n",
       " 'New Robert',\n",
       " 'East Denise',\n",
       " 'Yolandafort',\n",
       " 'Christianchester',\n",
       " 'New Aliciaberg',\n",
       " 'Lake Latasha',\n",
       " 'Rubenbury']"
      ]
     },
     "execution_count": 11,
     "metadata": {},
     "output_type": "execute_result"
    }
   ],
   "source": [
    "# City Addresses: first step\n",
    "\n",
    "o=[]\n",
    "for i in store_address:\n",
    "    p=re.findall(re.compile(r'.+?(?=,)'),i)\n",
    "    o.extend(p)\n",
    "o[:10]"
   ]
  },
  {
   "cell_type": "code",
   "execution_count": 80,
   "metadata": {},
   "outputs": [
    {
     "data": {
      "text/plain": [
       "['Lake Maria', 'Calderonton', 'Joseph', 'New Robert']"
      ]
     },
     "execution_count": 80,
     "metadata": {},
     "output_type": "execute_result"
    }
   ],
   "source": [
    "# City: Second Step\n",
    "\n",
    "streets=[]\n",
    "for j in o:\n",
    "    pp=re.sub('North|South|West|East','',j)\n",
    "    streets.append(pp.lstrip())\n",
    "#     print(j)\n",
    "streets[:4]\n",
    "# streets"
   ]
  },
  {
   "cell_type": "code",
   "execution_count": 12,
   "metadata": {},
   "outputs": [
    {
     "data": {
      "text/plain": [
       "[['MN', '77577'],\n",
       " ['KS', '89435'],\n",
       " ['WV', '50669'],\n",
       " ['ME', '48035'],\n",
       " ['NV', '66145'],\n",
       " ['RI', '63534'],\n",
       " ['VT', '25717'],\n",
       " ['NM', '73609'],\n",
       " ['MA', '90202'],\n",
       " ['RI', '76156']]"
      ]
     },
     "execution_count": 12,
     "metadata": {},
     "output_type": "execute_result"
    }
   ],
   "source": [
    "# Divided State & Zipcode:\n",
    "\n",
    "state_zip=[]\n",
    "for i in store_address:\n",
    "    state_zip.extend(re.findall(r'(?<=\\,).+',i))\n",
    "state_zip_=[]    \n",
    "for j in state_zip:\n",
    "    state_zip_.extend([j.lstrip().replace(' ',',').split(',')])\n",
    "state_zip_[:10]\n",
    "# state_zip"
   ]
  },
  {
   "cell_type": "markdown",
   "metadata": {},
   "source": [
    "# Difficult way to parse address Post Directionals:"
   ]
  },
  {
   "cell_type": "code",
   "execution_count": 89,
   "metadata": {},
   "outputs": [],
   "source": [
    "# rp=[]\n",
    "# j='North Denise'\n",
    "# for i in o:\n",
    "#     if (re.findall(r'(W(est|\\.|\\s))|(E(ast|\\.|\\s))|(N(orth|\\.|\\s))|(S(outh|\\.|\\s)).?',\n",
    "#            i,re.IGNORECASE)):\n",
    "#         rp.append((re.findall(r'(W(est|\\.|\\s))|(E(ast|\\.|\\s))|(N(orth|\\.|\\s))|(S(outh|\\.|\\s)).?',\n",
    "#            i,re.IGNORECASE)))\n",
    "#     else:\n",
    "#         rp.append([])\n",
    "# rp\n",
    "# "
   ]
  },
  {
   "cell_type": "markdown",
   "metadata": {},
   "source": [
    "# Realistic Easy Way to Parse Post Directional;"
   ]
  },
  {
   "cell_type": "code",
   "execution_count": 95,
   "metadata": {},
   "outputs": [
    {
     "data": {
      "text/plain": [
       "[[], [], ['North'], [], ['East'], []]"
      ]
     },
     "execution_count": 95,
     "metadata": {},
     "output_type": "execute_result"
    }
   ],
   "source": [
    "# Post Directional:\n",
    "\n",
    "post_dir=[]\n",
    "dir=['North','South','East','West']\n",
    "# bv=['North','Joseph']\n",
    "# set(bv)&set(dir)\n",
    "\n",
    "y=[]\n",
    "for i in o:\n",
    "    y.extend([i.split(' ')])\n",
    "for j in y:\n",
    "    if set(j)&set(dir):\n",
    "        post_dir.append(list(set(j)&set(dir)))\n",
    "    else:\n",
    "        post_dir.append([])\n",
    "post_dir[:6]\n"
   ]
  },
  {
   "cell_type": "code",
   "execution_count": 13,
   "metadata": {},
   "outputs": [
    {
     "data": {
      "text/plain": [
       "['Apt. 344',\n",
       " 'Apt. 421',\n",
       " [],\n",
       " 'Apt. 200',\n",
       " 'Suite 648',\n",
       " 'Suite 506',\n",
       " 'Suite 647',\n",
       " [],\n",
       " [],\n",
       " 'Suite 768']"
      ]
     },
     "execution_count": 13,
     "metadata": {},
     "output_type": "execute_result"
    }
   ],
   "source": [
    "# Full Apt/suite if occurs otherwise empty list:\n",
    "\n",
    "apt_ste=[]\n",
    "for i in store_address:\n",
    "    if re.findall(re.compile(r'\\b(?=((Apt.|Suite)\\s\\w+))'),i):\n",
    "        ui=re.findall(re.compile(r'\\b(?=((Apt.|Suite)\\s\\w+))'),i)\n",
    "        apt_ste.extend(ui)\n",
    "    else:\n",
    "        apt_ste.append([])\n",
    "        \n",
    "apt_ste_=[]\n",
    "\n",
    "for i in apt_ste:\n",
    "    if i==[]:\n",
    "        apt_ste_.append([])\n",
    "    else:\n",
    "        apt_ste_.append(i[0])\n",
    "        \n",
    "apt_ste_[:10]\n",
    "# apt_ste"
   ]
  },
  {
   "cell_type": "markdown",
   "metadata": {},
   "source": [
    "# Military Addresses:"
   ]
  },
  {
   "cell_type": "code",
   "execution_count": 14,
   "metadata": {},
   "outputs": [
    {
     "data": {
      "text/plain": [
       "['USNV Maddox\\nFPO AA 77402',\n",
       " 'USNV Lewis\\nFPO AA 92743',\n",
       " 'USNV Wu\\nFPO AE 47182',\n",
       " 'USNV Sloan\\nFPO AP 06977',\n",
       " 'USS Chen\\nFPO AA 10270',\n",
       " 'USNS Fischer\\nFPO AE 45323',\n",
       " 'USS Glover\\nFPO AP 69577',\n",
       " 'USNV Medina\\nFPO AA 82238',\n",
       " 'USCGC Lee\\nFPO AA 38102',\n",
       " 'USCGC Brady\\nFPO AA 11924']"
      ]
     },
     "execution_count": 14,
     "metadata": {},
     "output_type": "execute_result"
    }
   ],
   "source": [
    "# for i in military_addr:\n",
    "#     print(re.split(' ',i))\n",
    "military_addr[:10]"
   ]
  },
  {
   "cell_type": "markdown",
   "metadata": {},
   "source": [
    "# `Now you can just take what elements by index to create Military Address FIle:`"
   ]
  },
  {
   "cell_type": "code",
   "execution_count": 15,
   "metadata": {},
   "outputs": [
    {
     "data": {
      "text/plain": [
       "[[['USNV', 'Maddox'], ['FPO', 'AA', '77402']],\n",
       " [['USNV', 'Lewis'], ['FPO', 'AA', '92743']],\n",
       " [['USNV', 'Wu'], ['FPO', 'AE', '47182']],\n",
       " [['USNV', 'Sloan'], ['FPO', 'AP', '06977']],\n",
       " [['USS', 'Chen'], ['FPO', 'AA', '10270']],\n",
       " [['USNS', 'Fischer'], ['FPO', 'AE', '45323']],\n",
       " [['USS', 'Glover'], ['FPO', 'AP', '69577']],\n",
       " [['USNV', 'Medina'], ['FPO', 'AA', '82238']],\n",
       " [['USCGC', 'Lee'], ['FPO', 'AA', '38102']],\n",
       " [['USCGC', 'Brady'], ['FPO', 'AA', '11924']]]"
      ]
     },
     "execution_count": 15,
     "metadata": {},
     "output_type": "execute_result"
    }
   ],
   "source": [
    "parse_mil_adrr=[]\n",
    "for i in military_addr:\n",
    "    parse_mil_adrr.append(i.split('\\n'))\n",
    "\n",
    "k=[]\n",
    "for i,j in parse_mil_adrr:\n",
    "    k.append([i.split(' '),j.split(' ')])\n",
    "k[:10]\n"
   ]
  },
  {
   "cell_type": "markdown",
   "metadata": {},
   "source": [
    "# Citations:\n",
    "\n",
    "https://pe.usps.com/text/pub28/28apd_002.htm  (USPS postal code) criteria\n",
    "\n",
    "https://github.com/scrapehero/yellowpages-scraper\n",
    "\n",
    "https://docs.python.org/3/library/re.html\n",
    "\n",
    "https://smartystreets.com/articles/regular-expressions-for-street-addresses\n",
    "\n",
    "https://stackoverflow.com/questions/11160192/how-to-parse-freeform-street-postal-address-out-of-text-and-into-components\n",
    "\n",
    "https://www.regular-expressions.info/wordboundaries.html\n",
    "\n",
    "https://www.regular-expressions.info/lookaround.html"
   ]
  }
 ],
 "metadata": {
  "kernelspec": {
   "display_name": "Python 3",
   "language": "python",
   "name": "python3"
  },
  "language_info": {
   "codemirror_mode": {
    "name": "ipython",
    "version": 3
   },
   "file_extension": ".py",
   "mimetype": "text/x-python",
   "name": "python",
   "nbconvert_exporter": "python",
   "pygments_lexer": "ipython3",
   "version": "3.7.3"
  }
 },
 "nbformat": 4,
 "nbformat_minor": 4
}
