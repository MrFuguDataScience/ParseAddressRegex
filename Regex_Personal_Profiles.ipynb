{
 "cells": [
  {
   "cell_type": "markdown",
   "metadata": {},
   "source": [
    "# Regular Expressions Tutorial: Personal Data with Python\n",
    "\n",
    "\n",
    "with `Mr. Fugu Data Science`\n",
    "\n",
    "# (◕‿◕✿)\n",
    "\n",
    "\n",
    "[Github](https://github.com/MrFuguDataScience) | [Youtube](https://www.youtube.com/channel/UCbni-TDI-Ub8VlGaP8HLTNw?view_as=subscriber)"
   ]
  },
  {
   "cell_type": "markdown",
   "metadata": {},
   "source": [
    "[re module documentation](https://docs.python.org/3/library/re.html)\n",
    "\n",
    "# Useful Tables to Help:\n",
    "\n",
    "|     \t|                                             \t|   \t| Special Characters \t|                                                                 \t|\n",
    "|-----\t|---------------------------------------------\t|---\t|--------------------\t|-----------------------------------------------------------------\t|\n",
    "| \\A  \t| matches start of string                     \t|   \t| .                  \t| any character except (\\n)                                       \t|\n",
    "| \\b  \t| boundary of  word                           \t|   \t| ^                  \t| start of string, except for multiline it matches directly after \t|\n",
    "| \\B  \t| Not Word Boundary                           \t|   \t| $                  \t| end of string or just before (\\n)                               \t|\n",
    "| \\d  \t| digits: (0-9)                               \t|   \t| *                  \t| 0+, repetitions of pattern before the (*)                       \t|\n",
    "| \\D  \t| any character but NOT digit                 \t|   \t| +                  \t| 1+ repetitions of pattern before the (+)                        \t|\n",
    "| \\s  \t| whitespace: (\\t,\\n, space)                  \t|   \t| ?                  \t| 0 or 1 repetitions preceding RE.                                \t|\n",
    "| \\S  \t| matches any character but NOT (\\t,\\n space) \t|   \t| *?, +?, ??         \t| Creates non greedy forms                                        \t|\n",
    "| \\w  \t| matches characters,  digits, underscore     \t|   \t| {m}                \t| exact number of matches                                         \t|\n",
    "| \\W  \t| anything except  character                  \t|   \t| {m.n}              \t| range of matches                                                \t|\n",
    "| \\Z  \t| Only matches end of string                  \t|   \t| {m,n}?             \t| match as FEW as possible, in range                              \t|\n",
    "| ( ) \t| grouping                                    \t|   \t| [ ]                \t| Character set, finds anything inside                            \t|\n",
    "\n",
    "\n",
    "`---------------------------------------`\n",
    "\n",
    "# `Other Tips:`\n",
    "\n",
    "| Look ahead &  Look Behind \t|                                                                                                                           \t|\n",
    "|---------------------------\t|---------------------------------------------------------------------------------------------------------------------------\t|\n",
    "| ?:                        \t| match but don't capture it                                                                                                \t|\n",
    "| ?=                        \t| match suffix but exclude from capture \"Look ahead\" ex.) q(?=u), find \"q\" that IS followed by \"u\", BUT, doesn't return \"u\" \t|\n",
    "| ?!                        \t| match if suffix is absent (neg.) look ahead ex.) p(?!u), means find \"p\" NOT  followed by \"u\"                              \t|\n",
    "| ?<=                       \t| positive look ahead                                                                                                       \t|\n",
    "| ?<!                       \t| negative look behind                                                                                                      \t|\n",
    "| (?=(regex))               \t| use this to store the data from look ahead                                                                                \t|"
   ]
  },
  {
   "cell_type": "code",
   "execution_count": 1,
   "metadata": {},
   "outputs": [],
   "source": [
    "import re\n",
    "import pandas as pd\n",
    "import faker # create fake personal profiles\n",
    "from datetime import datetime  # change formatting"
   ]
  },
  {
   "cell_type": "code",
   "execution_count": 2,
   "metadata": {},
   "outputs": [],
   "source": [
    "# Create our fake Personal Profiles Dataset:\n",
    "\n",
    "fake_=faker.Faker()\n",
    "fake_.seed(413)\n",
    "fake_personal_profile=[]\n",
    "for i in range(500):\n",
    "    fake_personal_profile.append(fake_.profile())"
   ]
  },
  {
   "cell_type": "code",
   "execution_count": 18,
   "metadata": {},
   "outputs": [
    {
     "data": {
      "text/html": [
       "<div>\n",
       "<style scoped>\n",
       "    .dataframe tbody tr th:only-of-type {\n",
       "        vertical-align: middle;\n",
       "    }\n",
       "\n",
       "    .dataframe tbody tr th {\n",
       "        vertical-align: top;\n",
       "    }\n",
       "\n",
       "    .dataframe thead th {\n",
       "        text-align: right;\n",
       "    }\n",
       "</style>\n",
       "<table border=\"1\" class=\"dataframe\">\n",
       "  <thead>\n",
       "    <tr style=\"text-align: right;\">\n",
       "      <th></th>\n",
       "      <th>job</th>\n",
       "      <th>company</th>\n",
       "      <th>ssn</th>\n",
       "      <th>residence</th>\n",
       "      <th>current_location</th>\n",
       "      <th>blood_group</th>\n",
       "      <th>website</th>\n",
       "      <th>username</th>\n",
       "      <th>name</th>\n",
       "      <th>sex</th>\n",
       "      <th>address</th>\n",
       "      <th>mail</th>\n",
       "      <th>birthdate</th>\n",
       "    </tr>\n",
       "  </thead>\n",
       "  <tbody>\n",
       "    <tr>\n",
       "      <th>0</th>\n",
       "      <td>Science writer</td>\n",
       "      <td>Mcdonald-Miller</td>\n",
       "      <td>724-95-4794</td>\n",
       "      <td>74187 Laurie Parkways Apt. 344\\nLake Maria, MN...</td>\n",
       "      <td>(-2.2591115, 88.092470)</td>\n",
       "      <td>O-</td>\n",
       "      <td>[http://brown-salinas.com/, https://crawford-g...</td>\n",
       "      <td>markgray</td>\n",
       "      <td>Stephanie Craig</td>\n",
       "      <td>F</td>\n",
       "      <td>7443 Jennifer Squares Suite 296\\nJohnton, VT 3...</td>\n",
       "      <td>lbowers@yahoo.com</td>\n",
       "      <td>2001-11-10</td>\n",
       "    </tr>\n",
       "    <tr>\n",
       "      <th>1</th>\n",
       "      <td>Psychotherapist</td>\n",
       "      <td>Roberts, Bennett and Briggs</td>\n",
       "      <td>869-25-5810</td>\n",
       "      <td>4035 Perez Pass Apt. 421\\nCalderonton, KS 89435</td>\n",
       "      <td>(82.7585265, 45.743752)</td>\n",
       "      <td>B+</td>\n",
       "      <td>[http://www.benson.com/, http://www.thompson.c...</td>\n",
       "      <td>jose21</td>\n",
       "      <td>Brandon Wolfe</td>\n",
       "      <td>M</td>\n",
       "      <td>08144 Todd Greens Suite 391\\nMichaeltown, UT 9...</td>\n",
       "      <td>powellbrandy@yahoo.com</td>\n",
       "      <td>2018-09-15</td>\n",
       "    </tr>\n",
       "    <tr>\n",
       "      <th>2</th>\n",
       "      <td>Trade mark attorney</td>\n",
       "      <td>Ramsey, Jordan and Hutchinson</td>\n",
       "      <td>236-16-8405</td>\n",
       "      <td>0086 Cohen Trafficway\\nNorth Joseph, WV 50669</td>\n",
       "      <td>(-76.6212615, 112.630239)</td>\n",
       "      <td>B-</td>\n",
       "      <td>[https://lee.biz/]</td>\n",
       "      <td>gregory52</td>\n",
       "      <td>Melissa Summers</td>\n",
       "      <td>F</td>\n",
       "      <td>81538 Michael Tunnel Suite 123\\nSouth Jeffreyh...</td>\n",
       "      <td>joshuadennis@yahoo.com</td>\n",
       "      <td>1939-01-23</td>\n",
       "    </tr>\n",
       "    <tr>\n",
       "      <th>3</th>\n",
       "      <td>Risk manager</td>\n",
       "      <td>Hinton-Bradley</td>\n",
       "      <td>122-87-1267</td>\n",
       "      <td>4637 Mary Inlet Apt. 200\\nNew Robert, ME 48035</td>\n",
       "      <td>(-80.2167735, 63.141605)</td>\n",
       "      <td>AB+</td>\n",
       "      <td>[https://thomas.com/, https://roberson.info/, ...</td>\n",
       "      <td>tammy86</td>\n",
       "      <td>April Quinn</td>\n",
       "      <td>F</td>\n",
       "      <td>8201 Garrison Forest Apt. 935\\nCatherineton, N...</td>\n",
       "      <td>ghunter@hotmail.com</td>\n",
       "      <td>1960-10-24</td>\n",
       "    </tr>\n",
       "    <tr>\n",
       "      <th>4</th>\n",
       "      <td>Pathologist</td>\n",
       "      <td>Stephens Ltd</td>\n",
       "      <td>017-44-8291</td>\n",
       "      <td>36411 Schwartz Shoals Suite 648\\nEast Denise, ...</td>\n",
       "      <td>(47.668630, 88.304771)</td>\n",
       "      <td>A+</td>\n",
       "      <td>[http://davis.org/, https://walker.biz/, http:...</td>\n",
       "      <td>yjones</td>\n",
       "      <td>Mike White</td>\n",
       "      <td>M</td>\n",
       "      <td>USNS Rodriguez\\nFPO AP 85658</td>\n",
       "      <td>megan38@hotmail.com</td>\n",
       "      <td>1911-12-29</td>\n",
       "    </tr>\n",
       "  </tbody>\n",
       "</table>\n",
       "</div>"
      ],
      "text/plain": [
       "                   job                        company          ssn  \\\n",
       "0       Science writer                Mcdonald-Miller  724-95-4794   \n",
       "1      Psychotherapist    Roberts, Bennett and Briggs  869-25-5810   \n",
       "2  Trade mark attorney  Ramsey, Jordan and Hutchinson  236-16-8405   \n",
       "3         Risk manager                 Hinton-Bradley  122-87-1267   \n",
       "4          Pathologist                   Stephens Ltd  017-44-8291   \n",
       "\n",
       "                                           residence  \\\n",
       "0  74187 Laurie Parkways Apt. 344\\nLake Maria, MN...   \n",
       "1    4035 Perez Pass Apt. 421\\nCalderonton, KS 89435   \n",
       "2      0086 Cohen Trafficway\\nNorth Joseph, WV 50669   \n",
       "3     4637 Mary Inlet Apt. 200\\nNew Robert, ME 48035   \n",
       "4  36411 Schwartz Shoals Suite 648\\nEast Denise, ...   \n",
       "\n",
       "            current_location blood_group  \\\n",
       "0    (-2.2591115, 88.092470)          O-   \n",
       "1    (82.7585265, 45.743752)          B+   \n",
       "2  (-76.6212615, 112.630239)          B-   \n",
       "3   (-80.2167735, 63.141605)         AB+   \n",
       "4     (47.668630, 88.304771)          A+   \n",
       "\n",
       "                                             website   username  \\\n",
       "0  [http://brown-salinas.com/, https://crawford-g...   markgray   \n",
       "1  [http://www.benson.com/, http://www.thompson.c...     jose21   \n",
       "2                                 [https://lee.biz/]  gregory52   \n",
       "3  [https://thomas.com/, https://roberson.info/, ...    tammy86   \n",
       "4  [http://davis.org/, https://walker.biz/, http:...     yjones   \n",
       "\n",
       "              name sex                                            address  \\\n",
       "0  Stephanie Craig   F  7443 Jennifer Squares Suite 296\\nJohnton, VT 3...   \n",
       "1    Brandon Wolfe   M  08144 Todd Greens Suite 391\\nMichaeltown, UT 9...   \n",
       "2  Melissa Summers   F  81538 Michael Tunnel Suite 123\\nSouth Jeffreyh...   \n",
       "3      April Quinn   F  8201 Garrison Forest Apt. 935\\nCatherineton, N...   \n",
       "4       Mike White   M                       USNS Rodriguez\\nFPO AP 85658   \n",
       "\n",
       "                     mail   birthdate  \n",
       "0       lbowers@yahoo.com  2001-11-10  \n",
       "1  powellbrandy@yahoo.com  2018-09-15  \n",
       "2  joshuadennis@yahoo.com  1939-01-23  \n",
       "3     ghunter@hotmail.com  1960-10-24  \n",
       "4     megan38@hotmail.com  1911-12-29  "
      ]
     },
     "execution_count": 18,
     "metadata": {},
     "output_type": "execute_result"
    }
   ],
   "source": [
    "profiles=pd.DataFrame(fake_personal_profile)\n",
    "profiles.columns\n",
    "profiles.head()"
   ]
  },
  {
   "cell_type": "code",
   "execution_count": 27,
   "metadata": {},
   "outputs": [],
   "source": [
    "amended_profiles=profiles[['job','company','ssn','website','username',\n",
    "                           'name','birthdate','mail']]\n",
    "\n",
    "without_date=amended_profiles.iloc[:,[0,1,2,3,4,5,7]]\n",
    "\n",
    "\n",
    "# amended_profiles\n",
    "# without_date.head()"
   ]
  },
  {
   "cell_type": "code",
   "execution_count": 28,
   "metadata": {},
   "outputs": [
    {
     "data": {
      "text/plain": [
       "0      2001-11-10\n",
       "1      2018-09-15\n",
       "2      1939-01-23\n",
       "3      1960-10-24\n",
       "4      1911-12-29\n",
       "          ...    \n",
       "495    1996-01-23\n",
       "496    1969-06-16\n",
       "497    1980-10-30\n",
       "498    1937-01-05\n",
       "499    1955-01-04\n",
       "Name: birthdate, Length: 500, dtype: object"
      ]
     },
     "execution_count": 28,
     "metadata": {},
     "output_type": "execute_result"
    }
   ],
   "source": [
    "# Converting Birthday to American Date format:\n",
    "\n",
    "oo=amended_profiles['birthdate']\n",
    "\n",
    "dates_=[]\n",
    "for i in oo:\n",
    "    dates_.append(i.strftime('%m/%d/%Y'))\n"
   ]
  },
  {
   "cell_type": "code",
   "execution_count": 34,
   "metadata": {},
   "outputs": [],
   "source": [
    "# Adding to dataframe new date column then converting to list format to do Regex\n",
    "\n",
    "without_date['birthday']=dates_\n",
    "\n",
    "lst_version_df=without_date.values.tolist()\n",
    "# without_date.head()\n",
    "# lst_version_df"
   ]
  },
  {
   "cell_type": "code",
   "execution_count": 36,
   "metadata": {},
   "outputs": [
    {
     "data": {
      "text/plain": [
       "['http://brown-salinas.com/,https://crawford-gates.biz/,https://www.hoffman.net/,Science writer,Mcdonald-Miller,724-95-4794,markgray,Stephanie Craig,lbowers@yahoo.com,11/10/2001',\n",
       " 'Science writer,Mcdonald-Miller,724-95-4794,markgray,Stephanie Craig,lbowers@yahoo.com,11/10/2001,http://www.benson.com/,http://www.thompson.com/,http://www.francis.com/,http://wright.com/',\n",
       " 'markgray,Stephanie Craig,lbowers@yahoo.com,11/10/2001,http://www.benson.com/,http://www.thompson.com/,http://www.francis.com/,http://wright.com/,Psychotherapist,Roberts, Bennett and Briggs,869-25-5810',\n",
       " 'http://www.benson.com/,http://www.thompson.com/,http://www.francis.com/,http://wright.com/,Psychotherapist,Roberts, Bennett and Briggs,869-25-5810,jose21,Brandon Wolfe,powellbrandy@yahoo.com,09/15/2018',\n",
       " 'Psychotherapist,Roberts, Bennett and Briggs,869-25-5810,jose21,Brandon Wolfe,powellbrandy@yahoo.com,09/15/2018,https://lee.biz/']"
      ]
     },
     "execution_count": 36,
     "metadata": {},
     "output_type": "execute_result"
    }
   ],
   "source": [
    "#Converting to strings the data so we can parse with Regex for simulation\n",
    "\n",
    "flat_=[]\n",
    "for i in lst_version_df:\n",
    "        flat_.append(\",\".join(i[3]))\n",
    "        flat_.append(\",\".join(i[:3]))\n",
    "        flat_.append(\",\".join(i[4:]))\n",
    "lst_profiles=[]\n",
    "for i in range(len(flat_)-2):\n",
    "    lst_profiles.append(\",\".join([flat_[i],flat_[i+1],flat_[i+2]]))\n",
    "\n",
    "lst_profiles[:5]\n",
    "# flat_"
   ]
  },
  {
   "cell_type": "code",
   "execution_count": 8,
   "metadata": {},
   "outputs": [
    {
     "data": {
      "text/plain": [
       "'http://brown-salinas.com/,https://crawford-gates.biz/,https://www.hoffman.net/,Science writer,Mcdonald-Miller,724-95-4794,markgray,Stephanie Craig,lbowers@yahoo.com,11/10/2001'"
      ]
     },
     "execution_count": 8,
     "metadata": {},
     "output_type": "execute_result"
    }
   ],
   "source": [
    "# Example of our data as a string:\n",
    "lst_profiles[0]"
   ]
  },
  {
   "cell_type": "code",
   "execution_count": 44,
   "metadata": {},
   "outputs": [
    {
     "data": {
      "text/plain": [
       "['www.hoffman.net', 'www.eg.com']"
      ]
     },
     "execution_count": 44,
     "metadata": {},
     "output_type": "execute_result"
    }
   ],
   "source": [
    "# Find webpages:\n",
    "qq='http://brown-salinas.com/,https://crawford-gates.biz/,https://www.hoffman.net/,Science writer,Mcdonald-Miller,724-95-4794,markgray,Stephanie Craig,lbowers@yahoo.com,11/09/2001,http://ballzini.com/,john joyce,www.eg.com'\n",
    "re.findall(r'http?:\\S+',qq)\n",
    "\n",
    "# Get http or https\n",
    "http_https=re.findall(r'[https?:?\\/?\\/?]+[?:www.?|!:www.?]+[a-zA-Z0-9-_./]+[a-zA-Z]',qq)\n",
    "# http_https\n",
    "# get (www.) but without http/s\n",
    "www_=re.findall(r'(?:www.?)+[a-zA-Z-_0-9.]+[a-zA-Z]+',qq)\n",
    "www_\n",
    "# # Combine both:\n",
    "all_webpages_=re.findall(r'[https?:?\\/?\\/?]+[?:www.?|!:www.?]+[a-zA-Z0-9-_./]+[a-zA-Z]|(?:www.?)+[a-zA-Z-_0-9.]+[a-zA-Z]+',qq)"
   ]
  },
  {
   "cell_type": "code",
   "execution_count": 45,
   "metadata": {},
   "outputs": [
    {
     "data": {
      "text/plain": [
       "['http://brown-salinas.com',\n",
       " 'https://crawford-gates.biz',\n",
       " 'https://www.hoffman.net',\n",
       " 'http://ballzini.com',\n",
       " 'www.eg.com']"
      ]
     },
     "execution_count": 45,
     "metadata": {},
     "output_type": "execute_result"
    }
   ],
   "source": [
    "all_webpages_"
   ]
  },
  {
   "cell_type": "code",
   "execution_count": 11,
   "metadata": {},
   "outputs": [
    {
     "data": {
      "text/plain": [
       "['http://www.benson.com',\n",
       " 'http://www.thompson.com',\n",
       " 'http://www.francis.com',\n",
       " 'http://wright.com']"
      ]
     },
     "execution_count": 11,
     "metadata": {},
     "output_type": "execute_result"
    }
   ],
   "source": [
    "re.findall(r'[https?:?\\/?\\/?]+[?:www.?|!:www.?]+[a-zA-Z0-9-_./]+[a-zA-Z]|(?:www.?)+[a-zA-Z-_0-9.]+[a-zA-Z]+',lst_profiles[1])"
   ]
  },
  {
   "cell_type": "code",
   "execution_count": 46,
   "metadata": {},
   "outputs": [
    {
     "data": {
      "text/plain": [
       "['724-95-4794', '555-11-3333']"
      ]
     },
     "execution_count": 46,
     "metadata": {},
     "output_type": "execute_result"
    }
   ],
   "source": [
    "# Find Social Security Numbers:\n",
    "q='http://brown-salinas.com/,https://crawford-gates.biz/,https://www.hoffman.net/,Science writer,Mcdonald-Miller,724-95-4794,markgray,Stephanie Craig,lbowers@yahoo.com,john-deer@gmail.us,11/09/2001,555-11-3333'\n",
    "\n",
    "pp=re.compile(r'\\d{3}[-]\\d{2}[-]\\d{4}')\n",
    "mtch=pp.finditer(q)\n",
    "re.findall(pp,q)"
   ]
  },
  {
   "cell_type": "code",
   "execution_count": 47,
   "metadata": {},
   "outputs": [
    {
     "data": {
      "text/plain": [
       "['lbowers@yahoo.com', 'john-deer@gmail.us']"
      ]
     },
     "execution_count": 47,
     "metadata": {},
     "output_type": "execute_result"
    }
   ],
   "source": [
    "# Email Addresses:\n",
    "re.findall(r'[a-zA-Z-_.+0-9]+@[a-zA-Z-./]+',q)"
   ]
  },
  {
   "cell_type": "code",
   "execution_count": 14,
   "metadata": {},
   "outputs": [
    {
     "data": {
      "text/plain": [
       "['http://brown-salinas.com/',\n",
       " 'https://crawford-gates.biz/',\n",
       " 'https://www.hoffman.net/',\n",
       " 'Science writer',\n",
       " 'Mcdonald-Miller',\n",
       " '724-95-4794',\n",
       " 'markgray',\n",
       " 'Stephanie Craig',\n",
       " 'lbowers@yahoo.com',\n",
       " 'john-deer@gmail.us',\n",
       " '11/09/2001',\n",
       " '555-11-3333']"
      ]
     },
     "execution_count": 14,
     "metadata": {},
     "output_type": "execute_result"
    }
   ],
   "source": [
    "re.split(',',q)\n",
    "\n",
    "\n",
    "# re.findall(r'http?://\\S+')"
   ]
  },
  {
   "cell_type": "code",
   "execution_count": 15,
   "metadata": {},
   "outputs": [
    {
     "data": {
      "text/plain": [
       "['11/09/2001']"
      ]
     },
     "execution_count": 15,
     "metadata": {},
     "output_type": "execute_result"
    }
   ],
   "source": [
    "# Birthday: yippie o_0\n",
    "\n",
    "re.findall(r'\\d{1,2}\\/\\d{1,2}\\/\\d+',q)"
   ]
  },
  {
   "cell_type": "code",
   "execution_count": 49,
   "metadata": {},
   "outputs": [
    {
     "data": {
      "text/plain": [
       "['Science writer', 'Mcdonald-Miller', 'markgray', 'Stephanie Craig']"
      ]
     },
     "execution_count": 49,
     "metadata": {},
     "output_type": "execute_result"
    }
   ],
   "source": [
    "# finding Occupation, Company Name, user_name, Persons_name\n",
    "\n",
    "k=[]\n",
    "for i in re.split(',',lst_profiles[0]):\n",
    "    pp=re.compile(r'\\d{3}[-]\\d{2}[-]\\d{4}')\n",
    "    if re.findall(pp,i):\n",
    "        pass\n",
    "    elif re.findall(r'[a-zA-Z-_.+]+@[a-zA-Z-.]+',i):\n",
    "        pass\n",
    "    elif re.findall(r'\\d{1,2}\\/\\d{1,2}\\/\\d+',i):\n",
    "        pass\n",
    "    elif re.findall(r'[https?:?\\/?\\/?]+[?:www.?|!:www.?]+[a-zA-Z0-9-_./]+[a-zA-Z]|(?:www.?)+[a-zA-Z-_0-9.]+[a-zA-Z]+',i):\n",
    "        pass\n",
    "    else:\n",
    "        k.append(i)\n",
    "k\n",
    "\n",
    "# lst_profiles[0]"
   ]
  },
  {
   "cell_type": "code",
   "execution_count": 51,
   "metadata": {},
   "outputs": [
    {
     "data": {
      "text/plain": [
       "[['Science writer'],\n",
       " ['Science writer'],\n",
       " ['Bennett and'],\n",
       " ['Bennett and'],\n",
       " ['Bennett and'],\n",
       " ['Trade mark', 'Jordan and'],\n",
       " ['Trade mark', 'Jordan and'],\n",
       " ['Trade mark', 'Jordan and'],\n",
       " ['Risk manager'],\n",
       " ['Risk manager']]"
      ]
     },
     "execution_count": 51,
     "metadata": {},
     "output_type": "execute_result"
    }
   ],
   "source": [
    "webpages=[]\n",
    "birthday=[]\n",
    "emails=[]\n",
    "social_security_num=[]\n",
    "name_=[]\n",
    "occupation=[]\n",
    "for i in lst_profiles:\n",
    "    webpages.append(re.findall(r'[https?:?\\/?\\/?]+[?:www.?|!:www.?]+[a-zA-Z0-9-_./]+[a-zA-Z/]|(?:www.?)+[a-zA-Z-_0-9.]+',i))\n",
    "    birthday.append(re.findall(re.compile(r'\\d{1,2}\\/\\d{1,2}\\/\\d+'),i))\n",
    "    emails.append(re.findall(re.compile(r'[a-zA-Z-_.+]+@[a-zA-Z-.]+'),i))\n",
    "    social_security_num.append(re.findall(re.compile(r'\\d{3}[-]\\d{2}[-]\\d{4}'),i))\n",
    "    name_.append(re.findall(re.compile(r'([A-Z][a-z]+(?: [A-Z][a-z]\\.)? [A-Z][a-z]+)'),i))\n",
    "    occupation.append(re.findall(re.compile(r'([A-Z][a-z]+?(?: [A-Z][a-z]\\.)? [a-z]+)'),i))\n",
    "\n",
    "# split_df=[]\n",
    "# for i in lst_profiles:\n",
    "#     split_df.append(i.split(','))\n",
    "\n",
    "# split_df[:2]\n",
    "name_\n",
    "occupation[:10]"
   ]
  },
  {
   "cell_type": "code",
   "execution_count": 21,
   "metadata": {},
   "outputs": [
    {
     "data": {
      "text/plain": [
       "[['11/10/2001'],\n",
       " ['11/10/2001'],\n",
       " ['11/10/2001'],\n",
       " ['09/15/2018'],\n",
       " ['09/15/2018'],\n",
       " ['09/15/2018']]"
      ]
     },
     "execution_count": 21,
     "metadata": {},
     "output_type": "execute_result"
    }
   ],
   "source": [
    "birthday[:6]"
   ]
  },
  {
   "cell_type": "code",
   "execution_count": 22,
   "metadata": {},
   "outputs": [
    {
     "data": {
      "text/plain": [
       "[['http://brown-salinas.com/',\n",
       "  'https://crawford-gates.biz/',\n",
       "  'https://www.hoffman.net/'],\n",
       " ['http://www.benson.com/',\n",
       "  'http://www.thompson.com/',\n",
       "  'http://www.francis.com/',\n",
       "  'http://wright.com/'],\n",
       " ['http://www.benson.com/',\n",
       "  'http://www.thompson.com/',\n",
       "  'http://www.francis.com/',\n",
       "  'http://wright.com/'],\n",
       " ['http://www.benson.com/',\n",
       "  'http://www.thompson.com/',\n",
       "  'http://www.francis.com/',\n",
       "  'http://wright.com/'],\n",
       " ['https://lee.biz/']]"
      ]
     },
     "execution_count": 22,
     "metadata": {},
     "output_type": "execute_result"
    }
   ],
   "source": [
    "webpages[:5]"
   ]
  },
  {
   "cell_type": "code",
   "execution_count": 23,
   "metadata": {},
   "outputs": [
    {
     "data": {
      "text/plain": [
       "[['lbowers@yahoo.com'],\n",
       " ['lbowers@yahoo.com'],\n",
       " ['lbowers@yahoo.com'],\n",
       " ['powellbrandy@yahoo.com'],\n",
       " ['powellbrandy@yahoo.com']]"
      ]
     },
     "execution_count": 23,
     "metadata": {},
     "output_type": "execute_result"
    }
   ],
   "source": [
    "emails[:5]"
   ]
  },
  {
   "cell_type": "code",
   "execution_count": 24,
   "metadata": {},
   "outputs": [
    {
     "data": {
      "text/plain": [
       "[['724-95-4794'],\n",
       " ['724-95-4794'],\n",
       " ['869-25-5810'],\n",
       " ['869-25-5810'],\n",
       " ['869-25-5810'],\n",
       " ['236-16-8405']]"
      ]
     },
     "execution_count": 24,
     "metadata": {},
     "output_type": "execute_result"
    }
   ],
   "source": [
    "social_security_num[:6]"
   ]
  },
  {
   "cell_type": "code",
   "execution_count": 29,
   "metadata": {},
   "outputs": [
    {
     "data": {
      "text/plain": [
       "[['Stephanie Craig'],\n",
       " ['Stephanie Craig'],\n",
       " ['Stephanie Craig'],\n",
       " ['Brandon Wolfe'],\n",
       " ['Brandon Wolfe'],\n",
       " ['Brandon Wolfe'],\n",
       " ['Melissa Summers'],\n",
       " ['Melissa Summers'],\n",
       " ['Melissa Summers'],\n",
       " ['April Quinn']]"
      ]
     },
     "execution_count": 29,
     "metadata": {},
     "output_type": "execute_result"
    }
   ],
   "source": [
    "name_[:10]"
   ]
  },
  {
   "cell_type": "code",
   "execution_count": 18,
   "metadata": {},
   "outputs": [
    {
     "name": "stdout",
     "output_type": "stream",
     "text": [
      "[]\n",
      "[]\n",
      "[]\n",
      "['Psychontherapist']\n",
      "['Scientist']\n",
      "['Mcdonald']\n",
      "[]\n",
      "[]\n",
      "['Stephanie']\n",
      "[]\n",
      "[]\n"
     ]
    }
   ],
   "source": [
    "# io=re.compile(r'([A-Z][a-z]+?(?: [A-Z][a-z]\\.)? [a-z]+)')\n",
    "io=re.compile(r'^([A-Z][a-z]+)')\n",
    "y=['http://brown-salinas.com/',\n",
    "  'https://crawford-gates.biz/',\n",
    "  'https://www.hoffman.net/',\n",
    "  'Psychontherapist',\n",
    "   'Scientist person',\n",
    "  'Mcdonald-Miller',\n",
    "  '724-95-4794',\n",
    "  'markgray',\n",
    "  'Stephanie Craig',\n",
    "  'lbowers@yahoo.com',\n",
    "  '11/09/2001']\n",
    "for i in y:\n",
    "    print(re.findall(io,i))\n",
    "# lst_profiles[3]"
   ]
  },
  {
   "cell_type": "markdown",
   "metadata": {},
   "source": [
    "# Citations:\n",
    "\n",
    "\n",
    "https://www.regular-expressions.info/wordboundaries.html\n",
    "\n",
    "https://www.regular-expressions.info/lookaround.html"
   ]
  }
 ],
 "metadata": {
  "kernelspec": {
   "display_name": "Python 3",
   "language": "python",
   "name": "python3"
  },
  "language_info": {
   "codemirror_mode": {
    "name": "ipython",
    "version": 3
   },
   "file_extension": ".py",
   "mimetype": "text/x-python",
   "name": "python",
   "nbconvert_exporter": "python",
   "pygments_lexer": "ipython3",
   "version": "3.7.3"
  }
 },
 "nbformat": 4,
 "nbformat_minor": 4
}
